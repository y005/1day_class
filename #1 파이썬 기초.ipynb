{
 "cells": [
  {
   "cell_type": "markdown",
   "id": "d5241311",
   "metadata": {},
   "source": [
    "프로그래밍이란?\n",
    "- 사용자가 직접 컴퓨터에게 명령어를 작성하는 것\n",
    "- 명령어를 작성한다 = 코드를 작성한다 = 코딩\n",
    "- 컴퓨터가 이해할 수 있는 프로그래밍 언어만의 규칙을 지키면서 작성되어야 한다. "
   ]
  },
  {
   "cell_type": "markdown",
   "id": "d026ebba",
   "metadata": {},
   "source": [
    "우리가 사용하고 있는 프로그램 \n",
    "- 컴퓨터에게 일을 시키는 명령어들의 모음으로 구성되어 있다.\n",
    "- 컴퓨터는 원하는 데이터값을 읽거나 계산하고 저장할 수 있습니다.\n",
    "- 프로그램이 실행된다는 것 = 명령어를 바탕으로 컴퓨터가 원하는 데이터 값을 읽거나, 계산하고, 저장 등의 작업을 수행하는 것"
   ]
  },
  {
   "cell_type": "markdown",
   "id": "3bac2c07",
   "metadata": {},
   "source": [
    "![](https://en.pimg.jp/040/928/758/1/40928758.jpg)"
   ]
  },
  {
   "cell_type": "markdown",
   "id": "c56ad44f",
   "metadata": {},
   "source": [
    "파이썬\n",
    "- 사용자가 직접 명령어를 작성할 수 있는 프로그래밍 언어의 한 종류 \n",
    "- 코드 한 줄씩 실행해 결과를 바로 확인할 수 있는 프로그래밍 언어입니다.\n",
    "- 지켜야하는 문법 규칙들이 다른 프로그래밍 언어보다 간결합니다.\n",
    "- 프로그래밍을 처음 시작할 때 배울 때 많이 사용하는 언어\n",
    "- 머신러닝, 데이터분석과 관련된 좋은 라이브러리들이 있어 사용 비중이 계속 높아지고 있습니다. "
   ]
  },
  {
   "cell_type": "markdown",
   "id": "5e3098b6",
   "metadata": {},
   "source": [
    "주피터 노트북이란?\n",
    "- 파이썬으로 만들어진 프로그램\n",
    "- 파이썬으로 코드를 작성하고 실행결과를 확인할 수 있는 프로그램\n",
    "- 그래프를 시각화해서 바로 볼 수 있는 장점 "
   ]
  },
  {
   "cell_type": "markdown",
   "id": "69e73487",
   "metadata": {},
   "source": [
    "## 이번 실습 목표\n",
    "\n",
    "파이썬의 주요한 문법들을 정리하기\n",
    "1. 변수\n",
    "2. 자료구조\n",
    "3. 조건문 \n",
    "4. 반복문\n",
    "5. 함수"
   ]
  },
  {
   "cell_type": "markdown",
   "id": "ec73a57b",
   "metadata": {},
   "source": [
    "### 변수"
   ]
  },
  {
   "cell_type": "markdown",
   "id": "edf083a1",
   "metadata": {},
   "source": [
    "- 변수는 데이터를 저장할 공간으로 숫자나 문자를 저장하는 것이 가능합니다.\n",
    "- 변수에 데이터를 저장할 때는 변수명 = 저장을 원하는 데이터를 입력하면 됩니다.\n",
    "- 문자의 경우 ' '이나 \" \"로 감싸서 표현해야 합니다."
   ]
  },
  {
   "cell_type": "code",
   "execution_count": 13,
   "id": "6ce072f4",
   "metadata": {},
   "outputs": [],
   "source": [
    "사과 = 3\n",
    "배 = 4\n",
    "이름 = \"눈송이\"\n",
    "문장 = '입니다.'"
   ]
  },
  {
   "cell_type": "markdown",
   "id": "8d3fbbb5",
   "metadata": {},
   "source": [
    "변수에 저장된 데이터를 확인하고 싶으면 print(변수명) 명령어로 확인할 수 있다. (print는 저장된 데이터를 출력하는 명령어입니다.)"
   ]
  },
  {
   "cell_type": "code",
   "execution_count": 14,
   "id": "636ac410",
   "metadata": {},
   "outputs": [
    {
     "name": "stdout",
     "output_type": "stream",
     "text": [
      "3\n",
      "4\n"
     ]
    }
   ],
   "source": [
    "print(사과)\n",
    "print(배)"
   ]
  },
  {
   "cell_type": "markdown",
   "id": "5cf7e185",
   "metadata": {},
   "source": [
    "숫자를 저장한 변수는 서로 사칙연산이 가능합니다."
   ]
  },
  {
   "cell_type": "code",
   "execution_count": 17,
   "id": "e8af8fc7",
   "metadata": {},
   "outputs": [
    {
     "name": "stdout",
     "output_type": "stream",
     "text": [
      "7\n",
      "-1\n",
      "12\n",
      "0.75\n"
     ]
    }
   ],
   "source": [
    "print(사과+배)\n",
    "print(사과-배)\n",
    "print(사과*배)\n",
    "print(사과/배)"
   ]
  },
  {
   "cell_type": "markdown",
   "id": "5bcef79a",
   "metadata": {},
   "source": [
    "문자는 반면에 사칙연산 중 +만 가능하고 문자를 서로 이어주는 역할을 수행합니다."
   ]
  },
  {
   "cell_type": "code",
   "execution_count": 13,
   "id": "fb48d0b5",
   "metadata": {},
   "outputs": [
    {
     "name": "stdout",
     "output_type": "stream",
     "text": [
      "눈입니다.\n"
     ]
    }
   ],
   "source": [
    "print(이름+문장)"
   ]
  },
  {
   "cell_type": "markdown",
   "id": "73e287ce",
   "metadata": {},
   "source": [
    "### 자료구조"
   ]
  },
  {
   "cell_type": "markdown",
   "id": "60a8ebbd",
   "metadata": {},
   "source": [
    "여러 데이터들을 저장할 수 있는 자료구조에 대해 알아보겠습니다."
   ]
  },
  {
   "cell_type": "markdown",
   "id": "c160b8eb",
   "metadata": {},
   "source": [
    "#### list"
   ]
  },
  {
   "cell_type": "markdown",
   "id": "649d2182",
   "metadata": {},
   "source": [
    "![](https://mblogthumb-phinf.pstatic.net/MjAyMDA5MTNfMTEz/MDAxNTk5OTYxMTQ5NDU5.a0YMpE9uvs3GNoTG1ZxKJP0eHl4PN_Ykzn_YrxvNv6Ag.0x_zoVuG7gO11_4eUj1sC1wHmN-pgfYV-sP6lLA8NZUg.PNG.moon-over/list_4.PNG?type=w800)"
   ]
  },
  {
   "cell_type": "markdown",
   "id": "da320b0a",
   "metadata": {},
   "source": [
    "- 여러 개의 데이터를 저장할 수 있다.\n",
    "- []안에 저장하고 싶은 데이터를 나열하면 됩니다.\n",
    "- 리스트에 저장된 특정 데이터에 대한 접근과 수정은 인덱싱을 사용해서 할 수 있다."
   ]
  },
  {
   "cell_type": "code",
   "execution_count": 32,
   "id": "0e0c14c4",
   "metadata": {},
   "outputs": [
    {
     "name": "stdout",
     "output_type": "stream",
     "text": [
      "['hello', 'hi', 'hey', 'hello']\n",
      "hello\n",
      "hi\n",
      "hey\n",
      "hello\n",
      "['bye', 'hi', 'hey', 'hello']\n"
     ]
    }
   ],
   "source": [
    "list1 = [\"hello\",\"hi\",\"hey\",\"hello\"]\n",
    "print(list1)\n",
    "\n",
    "print(list1[0])\n",
    "print(list1[1])\n",
    "print(list1[2])\n",
    "print(list1[3])\n",
    "\n",
    "list1[0] = \"bye\"\n",
    "print(list1)"
   ]
  },
  {
   "cell_type": "markdown",
   "id": "7517ce62",
   "metadata": {},
   "source": [
    "list는 데이터를 추가하거나 데이터를 삭제하는 것이 가능합니다."
   ]
  },
  {
   "cell_type": "code",
   "execution_count": 33,
   "id": "acbf7c93",
   "metadata": {},
   "outputs": [
    {
     "name": "stdout",
     "output_type": "stream",
     "text": [
      "['hi', 'hello', 'hello']\n"
     ]
    }
   ],
   "source": [
    "list2 = []\n",
    "list2.append(\"hi\")\n",
    "list2.append(\"hello\")\n",
    "list2.append(\"hello\")\n",
    "print(list2)"
   ]
  },
  {
   "cell_type": "code",
   "execution_count": 34,
   "id": "410f7459",
   "metadata": {},
   "outputs": [
    {
     "name": "stdout",
     "output_type": "stream",
     "text": [
      "['hi', 'hello']\n"
     ]
    }
   ],
   "source": [
    "list2.pop()\n",
    "print(list2)"
   ]
  },
  {
   "cell_type": "markdown",
   "id": "3afe8817",
   "metadata": {},
   "source": [
    "#### set"
   ]
  },
  {
   "cell_type": "markdown",
   "id": "a1eea55c",
   "metadata": {},
   "source": [
    "- list와 같이 여러 데이터를 저장할 수 있습니다.\n",
    "- {}안에 저장하고 싶은 데이터를 나열하면 됩니다.\n",
    "- list와 다르게 중복된 데이터는 저장이 안됩니다.('집합'의 수학적 개념과 일치합니다.)\n",
    "- 인덱싱을 지원하지 않습니다.\n",
    "- 수나 문자 간의 정렬을 지원합니다."
   ]
  },
  {
   "cell_type": "code",
   "execution_count": 5,
   "id": "1a798be7",
   "metadata": {},
   "outputs": [
    {
     "name": "stdout",
     "output_type": "stream",
     "text": [
      "{'hello', 'hey', 'hi'}\n"
     ]
    }
   ],
   "source": [
    "set1 = {\"hello\",\"hi\",\"hey\",\"hello\"}\n",
    "print(set1)"
   ]
  },
  {
   "cell_type": "code",
   "execution_count": 6,
   "id": "cfe4d8d4",
   "metadata": {},
   "outputs": [
    {
     "ename": "TypeError",
     "evalue": "'set' object is not subscriptable",
     "output_type": "error",
     "traceback": [
      "\u001b[1;31m---------------------------------------------------------------------------\u001b[0m",
      "\u001b[1;31mTypeError\u001b[0m                                 Traceback (most recent call last)",
      "\u001b[1;32m<ipython-input-6-ca90c6e7048b>\u001b[0m in \u001b[0;36m<module>\u001b[1;34m\u001b[0m\n\u001b[1;32m----> 1\u001b[1;33m \u001b[0mprint\u001b[0m\u001b[1;33m(\u001b[0m\u001b[0mset1\u001b[0m\u001b[1;33m[\u001b[0m\u001b[1;36m0\u001b[0m\u001b[1;33m]\u001b[0m\u001b[1;33m)\u001b[0m\u001b[1;33m\u001b[0m\u001b[1;33m\u001b[0m\u001b[0m\n\u001b[0m",
      "\u001b[1;31mTypeError\u001b[0m: 'set' object is not subscriptable"
     ]
    }
   ],
   "source": [
    "print(set1[0])"
   ]
  },
  {
   "cell_type": "code",
   "execution_count": 7,
   "id": "da8bdafb",
   "metadata": {},
   "outputs": [
    {
     "name": "stdout",
     "output_type": "stream",
     "text": [
      "{1, 2, 3, 4}\n"
     ]
    }
   ],
   "source": [
    "set2 = {1,4,2,3}\n",
    "print(set2)"
   ]
  },
  {
   "cell_type": "markdown",
   "id": "e65d559e",
   "metadata": {},
   "source": [
    "set은 데이터를 추가하거나 데이터를 삭제하는 것이 가능합니다."
   ]
  },
  {
   "cell_type": "code",
   "execution_count": 37,
   "id": "fa63724d",
   "metadata": {},
   "outputs": [
    {
     "name": "stdout",
     "output_type": "stream",
     "text": [
      "{'hi', 'hello'}\n"
     ]
    }
   ],
   "source": [
    "set2 = {}\n",
    "set2.add(\"hi\")\n",
    "set2.add(\"hello\")\n",
    "set2.add(\"hello\")\n",
    "print(set2)"
   ]
  },
  {
   "cell_type": "code",
   "execution_count": 38,
   "id": "5ae1fc08",
   "metadata": {},
   "outputs": [
    {
     "name": "stdout",
     "output_type": "stream",
     "text": [
      "{'hello'}\n"
     ]
    }
   ],
   "source": [
    "set2.pop()\n",
    "print(set2)"
   ]
  },
  {
   "cell_type": "markdown",
   "id": "645c6d72",
   "metadata": {},
   "source": [
    "#### dictionary"
   ]
  },
  {
   "cell_type": "markdown",
   "id": "321927a8",
   "metadata": {},
   "source": [
    "- 값을 key와 value의 조합으로 데이터를 저장합니다.\n",
    "- {}안에 저장하고 싶은 데이터를 key와 value의 조합으로 나열하면 됩니다.\n",
    "- set과 비슷하게 중복된 key는 저장이 안됩니다. \n",
    "- 키값을 사용한 인덱싱을 통한 데이터 접근 및 수정이 가능합니다."
   ]
  },
  {
   "cell_type": "code",
   "execution_count": 43,
   "id": "fa97b286",
   "metadata": {},
   "outputs": [
    {
     "name": "stdout",
     "output_type": "stream",
     "text": [
      "{'오일남': 1, '강새벽': 101, '성기훈': 456}\n",
      "456\n",
      "{'오일남': 1, '강새벽': 67, '성기훈': 456}\n"
     ]
    }
   ],
   "source": [
    "dict1 = {\"오일남\":1,\"강새벽\":101,\"성기훈\":456,\"오일남\":1}\n",
    "print(dict1)\n",
    "print(dict1[\"성기훈\"])\n",
    "\n",
    "dict1[\"강새벽\"] = 67\n",
    "print(dict1)"
   ]
  },
  {
   "cell_type": "markdown",
   "id": "aca79dfd",
   "metadata": {},
   "source": [
    "dictionary는 데이터의 추가와 삭제가 지원됩니다."
   ]
  },
  {
   "cell_type": "code",
   "execution_count": 40,
   "id": "edfec922",
   "metadata": {},
   "outputs": [
    {
     "name": "stdout",
     "output_type": "stream",
     "text": [
      "{'오일남': 1, '강새벽': 67, '성기훈': 456, '한미녀': 212}\n",
      "{'오일남': 1, '강새벽': 67, '성기훈': 456}\n"
     ]
    }
   ],
   "source": [
    "dict1[\"한미녀\"] = 212\n",
    "print(dict1)\n",
    "dict1.pop(\"한미녀\")\n",
    "print(dict1)"
   ]
  },
  {
   "cell_type": "markdown",
   "id": "1909c834",
   "metadata": {},
   "source": [
    "### IF-ELSE 조건문"
   ]
  },
  {
   "cell_type": "markdown",
   "id": "1d4a62a6",
   "metadata": {},
   "source": [
    "`if 조건문:\n",
    "    해당하는 조건문이 참일 경우에 들여쓰기된 [1]의 코드만 실행됨\n",
    "    [1] 코드\n",
    "else:\n",
    "    조건문이 거짓일 경우 들여쓰기된 [2]의 코드만 실행됨\n",
    "    [2] 코드\n",
    "`"
   ]
  },
  {
   "cell_type": "markdown",
   "id": "e3f8788d",
   "metadata": {},
   "source": [
    "조건문의 예시 종류:\n",
    " - 숫자 > 숫자  : 왼쪽이 큰 경우 참\n",
    " - 숫자 <= 숫자 : 왼쪽이 오른쪽보다 작거나 같은 경우 참\n",
    " - 숫자 == 숫자 : 둘이 같은 수인 경우 참\n",
    " - 숫자 != 숫자 : 둘이 다른 수인 경우 참\n",
    " - 문자열 == 문자열 : 같은 문자열일 경우 참\n",
    " - 문자열 != 문자열 : 다른 문자열일 경우 참\n",
    " - 문자열 < 문자열 : 왼쪽 문자열이 사전 순서로 앞인 경우 참\n",
    " - 문자열 > 문자열 : 왼쪽 문자열이 사전 순서로 뒤인 경우 참 \n",
    " "
   ]
  },
  {
   "cell_type": "code",
   "execution_count": 18,
   "id": "7502e91d",
   "metadata": {},
   "outputs": [
    {
     "data": {
      "text/plain": [
       "True"
      ]
     },
     "execution_count": 18,
     "metadata": {},
     "output_type": "execute_result"
    }
   ],
   "source": [
    "3 > 1"
   ]
  },
  {
   "cell_type": "code",
   "execution_count": 9,
   "id": "bbc48977",
   "metadata": {},
   "outputs": [
    {
     "data": {
      "text/plain": [
       "True"
      ]
     },
     "execution_count": 9,
     "metadata": {},
     "output_type": "execute_result"
    }
   ],
   "source": [
    "4 <= 4"
   ]
  },
  {
   "cell_type": "code",
   "execution_count": 19,
   "id": "d9d7ed91",
   "metadata": {},
   "outputs": [
    {
     "data": {
      "text/plain": [
       "True"
      ]
     },
     "execution_count": 19,
     "metadata": {},
     "output_type": "execute_result"
    }
   ],
   "source": [
    "\"apple\" < \"banana\""
   ]
  },
  {
   "cell_type": "code",
   "execution_count": 20,
   "id": "d9c432be",
   "metadata": {},
   "outputs": [
    {
     "data": {
      "text/plain": [
       "False"
      ]
     },
     "execution_count": 20,
     "metadata": {},
     "output_type": "execute_result"
    }
   ],
   "source": [
    "\"apple\" == \"banana\""
   ]
  },
  {
   "cell_type": "code",
   "execution_count": 52,
   "id": "26dc81c0",
   "metadata": {},
   "outputs": [
    {
     "name": "stdout",
     "output_type": "stream",
     "text": [
      "True\n"
     ]
    }
   ],
   "source": [
    "if 3 > 1 :\n",
    "    print(\"True\")\n",
    "else:# 3이 1보다 작거나 같은 경우\n",
    "    print(\"False\")"
   ]
  },
  {
   "cell_type": "code",
   "execution_count": null,
   "id": "ae28ff66",
   "metadata": {},
   "outputs": [],
   "source": [
    "숫자 \n",
    "if 3 > 1 :\n",
    "    print(\"True\")\n",
    "else:# 3이 1보다 작거나 같은 경우\n",
    "    print(\"False\")"
   ]
  },
  {
   "cell_type": "markdown",
   "id": "7e9b7af8",
   "metadata": {},
   "source": [
    "`if 조건문1:\n",
    "    해당하는 조건문1이 참일 경우에 들여쓰기된 [1]의 코드만 실행됨\n",
    "    [1] 코드\n",
    "elif 조건문2:\n",
    "    조건문1이 거짓이고 조건문2가 참일 경우 들여쓰기된 [2]의 코드만 실행됨\n",
    "    [2] 코드\n",
    "else:\n",
    "    조건문1과 조건문2가 모두 거짓인 경우에만 들여쓰기된 [3]의 코드만 실행됨\n",
    "    [3] 코드\n",
    "`"
   ]
  },
  {
   "cell_type": "code",
   "execution_count": 53,
   "id": "83879838",
   "metadata": {},
   "outputs": [
    {
     "name": "stdout",
     "output_type": "stream",
     "text": [
      "긍정적\n"
     ]
    }
   ],
   "source": [
    "평점 = 4\n",
    "\n",
    "if  평점 > 3:\n",
    "    print(\"긍정적\")\n",
    "elif 평점 == 3 : # 평점이 3보다 크거나 작은 경우 중 같은 경우\n",
    "    print(\"중립\")\n",
    "else: #평점이 3보다 크거나 같지 않은 경우 => 3보다 작은 경우\n",
    "    print(\"부정적\")"
   ]
  },
  {
   "cell_type": "markdown",
   "id": "7e139ef3",
   "metadata": {},
   "source": [
    "### for 반복문"
   ]
  },
  {
   "cell_type": "markdown",
   "id": "350fc86c",
   "metadata": {},
   "source": [
    "`for 변수 in 리스트(딕셔너리,셋):\n",
    "    [1] 코드\n",
    "    `\n",
    "    \n",
    "1. 리스트에 있는 데이터 하나가 변수에 저장됩니다.\n",
    "2. [1] 코드가 실행됩니다.\n",
    "\n",
    "1~2의 과정은 리스트에 저장된 데이터 갯수만큼 반복 수행됩니다, \n",
    "    "
   ]
  },
  {
   "cell_type": "code",
   "execution_count": 10,
   "id": "8e735f21",
   "metadata": {},
   "outputs": [
    {
     "name": "stdout",
     "output_type": "stream",
     "text": [
      "hello\n",
      "hi\n",
      "hey\n",
      "hello\n"
     ]
    }
   ],
   "source": [
    "list1 = [\"hello\",\"hi\",\"hey\",\"hello\"]\n",
    "for tmp in list1:\n",
    "    print(tmp)    "
   ]
  },
  {
   "cell_type": "code",
   "execution_count": 15,
   "id": "4dbc51cf",
   "metadata": {},
   "outputs": [
    {
     "name": "stdout",
     "output_type": "stream",
     "text": [
      "hi\n",
      "hello\n",
      "hey\n"
     ]
    }
   ],
   "source": [
    "set1 = {\"hello\",\"hi\",\"hey\"}\n",
    "for tmp in set1:\n",
    "    print(tmp)"
   ]
  },
  {
   "cell_type": "code",
   "execution_count": 18,
   "id": "8a01a007",
   "metadata": {},
   "outputs": [
    {
     "name": "stdout",
     "output_type": "stream",
     "text": [
      "오일남\n",
      "강새벽\n",
      "성기훈\n"
     ]
    }
   ],
   "source": [
    "dict1 = {\"오일남\":1,\"강새벽\":67,\"성기훈\":456}\n",
    "for tmp in dict1:\n",
    "    print(tmp)"
   ]
  },
  {
   "cell_type": "markdown",
   "id": "d5b7586a",
   "metadata": {},
   "source": [
    "`for 변수 in range(시작,끝):\n",
    "    [1] 코드\n",
    "`\n",
    "\n",
    "변수에 [시잣,끝) == [시작,끝-1] 범위에 숫자가 차례대로 저장되서 들여쓰기 된 코드는 끝숫자-시작숫자 만큼 반복 수행됩니다."
   ]
  },
  {
   "cell_type": "code",
   "execution_count": 1,
   "id": "471347c8",
   "metadata": {},
   "outputs": [
    {
     "name": "stdout",
     "output_type": "stream",
     "text": [
      "1\n",
      "2\n",
      "3\n",
      "4\n",
      "5\n",
      "6\n",
      "7\n",
      "8\n",
      "9\n"
     ]
    }
   ],
   "source": [
    "시작 = 1\n",
    "끝 = 10\n",
    "for tmp in range(시작,끝):\n",
    "    print(tmp)"
   ]
  },
  {
   "cell_type": "markdown",
   "id": "777e02f2",
   "metadata": {},
   "source": [
    "`for 변수 in range(끝):\n",
    "    [1] 코드\n",
    "`\n",
    "\n",
    "변수에 [0,끝) == [0,끝-1] 범위에 숫자가 차례대로 저장되서 들여쓰기 된 코드는 입력된 수 만큼 반복 수행됩니다."
   ]
  },
  {
   "cell_type": "code",
   "execution_count": 3,
   "id": "40048b6e",
   "metadata": {},
   "outputs": [
    {
     "name": "stdout",
     "output_type": "stream",
     "text": [
      "0\n",
      "1\n",
      "2\n",
      "3\n",
      "4\n",
      "5\n",
      "6\n",
      "7\n",
      "8\n",
      "9\n"
     ]
    }
   ],
   "source": [
    "for tmp in range(끝):\n",
    "    print(tmp)"
   ]
  },
  {
   "cell_type": "markdown",
   "id": "f6f1b05b",
   "metadata": {},
   "source": [
    "### 함수"
   ]
  },
  {
   "cell_type": "markdown",
   "id": "8d1474ff",
   "metadata": {},
   "source": [
    "`\n",
    "def 함수명():\n",
    "    [1] 코드\n",
    "`\n",
    "\n",
    "미리 작성된 코드 모음으로 함수는 정의한 뒤 함수명()을 수행하며 작성된 코드들이 매번 실행됩니다."
   ]
  },
  {
   "cell_type": "code",
   "execution_count": 5,
   "id": "b754fe65",
   "metadata": {},
   "outputs": [],
   "source": [
    "def 인사함수():\n",
    "    print(\"안녕하세요\")"
   ]
  },
  {
   "cell_type": "code",
   "execution_count": 6,
   "id": "c3a0e5da",
   "metadata": {},
   "outputs": [],
   "source": [
    "def 인사함수1():\n",
    "    return \"안녕하세요\""
   ]
  },
  {
   "cell_type": "code",
   "execution_count": 7,
   "id": "1c445fb1",
   "metadata": {},
   "outputs": [
    {
     "name": "stdout",
     "output_type": "stream",
     "text": [
      "안녕하세요\n"
     ]
    }
   ],
   "source": [
    "인사함수()"
   ]
  },
  {
   "cell_type": "code",
   "execution_count": 8,
   "id": "566717d9",
   "metadata": {},
   "outputs": [
    {
     "data": {
      "text/plain": [
       "'안녕하세요'"
      ]
     },
     "execution_count": 8,
     "metadata": {},
     "output_type": "execute_result"
    }
   ],
   "source": [
    "인사함수1()"
   ]
  },
  {
   "cell_type": "code",
   "execution_count": 9,
   "id": "18b976a7",
   "metadata": {},
   "outputs": [
    {
     "name": "stdout",
     "output_type": "stream",
     "text": [
      "안녕하세요\n"
     ]
    }
   ],
   "source": [
    "결과 = 인사함수1()\n",
    "print(결과)"
   ]
  },
  {
   "cell_type": "markdown",
   "id": "9bd2a521",
   "metadata": {},
   "source": [
    "`\n",
    "def 함수명(매개변수):\n",
    "    [1] 코드\n",
    "    return 데이터\n",
    "`\n",
    "\n",
    "함수는 외부로부터의 매개변수가 필요한 경우에는 함수명(해당하는 매개변수)로 함수를 실행하면 되고\n",
    "return은 함수명()을 수행했을 때 반환되는 데이터가 있을 경우에만 작성하고 반환된 데이터는 변수에 저장해서 사용합니다.\n"
   ]
  },
  {
   "cell_type": "code",
   "execution_count": 10,
   "id": "fb256c24",
   "metadata": {},
   "outputs": [],
   "source": [
    "def 더하기(A,B):\n",
    "    ans = A+B\n",
    "    return ans"
   ]
  },
  {
   "cell_type": "code",
   "execution_count": 11,
   "id": "6a0c31ef",
   "metadata": {},
   "outputs": [
    {
     "data": {
      "text/plain": [
       "258674"
      ]
     },
     "execution_count": 11,
     "metadata": {},
     "output_type": "execute_result"
    }
   ],
   "source": [
    "더하기(134325,124349)"
   ]
  },
  {
   "cell_type": "markdown",
   "id": "e5e035d6",
   "metadata": {},
   "source": [
    "###### Quiz"
   ]
  },
  {
   "cell_type": "markdown",
   "id": "589fa838",
   "metadata": {},
   "source": [
    "![](data:image/jpeg;base64,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)"
   ]
  },
  {
   "cell_type": "markdown",
   "id": "b96ca790",
   "metadata": {},
   "source": [
    "456명의 게임 참가자들에게 간식으로 젤리와 사탕을 나눠줄려고 한다. 여성 참가자에게는 젤리를 한 사람 당 3개씩 배급하고 남성 참가자에게는 사탕을 한 사람 당 2개씩 배급하니 배급한 젤리와 사탕의 총 개수 합이 1092개라고 할 때 전체 게임 참가자 중 여성 참가자는 몇 명 인지 계산하는 함수를 작성해라\n"
   ]
  },
  {
   "cell_type": "code",
   "execution_count": null,
   "id": "0ba838bd",
   "metadata": {},
   "outputs": [],
   "source": []
  }
 ],
 "metadata": {
  "kernelspec": {
   "display_name": "Python 3 (ipykernel)",
   "language": "python",
   "name": "python3"
  },
  "language_info": {
   "codemirror_mode": {
    "name": "ipython",
    "version": 3
   },
   "file_extension": ".py",
   "mimetype": "text/x-python",
   "name": "python",
   "nbconvert_exporter": "python",
   "pygments_lexer": "ipython3",
   "version": "3.8.7"
  },
  "toc": {
   "base_numbering": 1,
   "nav_menu": {},
   "number_sections": true,
   "sideBar": true,
   "skip_h1_title": false,
   "title_cell": "Table of Contents",
   "title_sidebar": "Contents",
   "toc_cell": false,
   "toc_position": {
    "height": "calc(100% - 180px)",
    "left": "10px",
    "top": "150px",
    "width": "214.433px"
   },
   "toc_section_display": true,
   "toc_window_display": false
  },
  "varInspector": {
   "cols": {
    "lenName": 16,
    "lenType": 16,
    "lenVar": 40
   },
   "kernels_config": {
    "python": {
     "delete_cmd_postfix": "",
     "delete_cmd_prefix": "del ",
     "library": "var_list.py",
     "varRefreshCmd": "print(var_dic_list())"
    },
    "r": {
     "delete_cmd_postfix": ") ",
     "delete_cmd_prefix": "rm(",
     "library": "var_list.r",
     "varRefreshCmd": "cat(var_dic_list()) "
    }
   },
   "types_to_exclude": [
    "module",
    "function",
    "builtin_function_or_method",
    "instance",
    "_Feature"
   ],
   "window_display": false
  },
  "widgets": {
   "application/vnd.jupyter.widget-state+json": {
    "state": {},
    "version_major": 2,
    "version_minor": 0
   }
  }
 },
 "nbformat": 4,
 "nbformat_minor": 5
}
